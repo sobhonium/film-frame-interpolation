{
 "cells": [
  {
   "cell_type": "code",
   "execution_count": 2,
   "id": "b497075b",
   "metadata": {},
   "outputs": [],
   "source": [
    "import torch\n",
    "from torch import nn"
   ]
  },
  {
   "cell_type": "code",
   "execution_count": null,
   "id": "8df88261",
   "metadata": {},
   "outputs": [],
   "source": []
  },
  {
   "cell_type": "code",
   "execution_count": 15,
   "id": "97f45414",
   "metadata": {},
   "outputs": [],
   "source": [
    "img = torch.rand((1, 1, 10,10))"
   ]
  },
  {
   "cell_type": "code",
   "execution_count": null,
   "id": "461e5888",
   "metadata": {},
   "outputs": [],
   "source": []
  },
  {
   "cell_type": "code",
   "execution_count": null,
   "id": "6b9e278a",
   "metadata": {},
   "outputs": [],
   "source": []
  },
  {
   "cell_type": "code",
   "execution_count": 16,
   "id": "3f3974d8",
   "metadata": {},
   "outputs": [],
   "source": [
    "convlayer = nn.Sequential(\n",
    "torch.nn.Conv2d(1, 64, \n",
    "                            kernel_size=(3,3), \n",
    "                            stride=1, padding=1),  # \n",
    "            torch.nn.ReLU(True),\n",
    "            torch.nn.MaxPool2d(2, stride=1),\n",
    "            torch.nn.Conv2d(64, 16, kernel_size=(3,3), \n",
    "                            stride=1, padding=1),  # b, 8, 3, 3\n",
    "            torch.nn.ReLU(True),\n",
    "            torch.nn.MaxPool2d(2, stride=1)  # b, 8, 2, 2\n",
    "        )"
   ]
  },
  {
   "cell_type": "code",
   "execution_count": null,
   "id": "a4ae1f0f",
   "metadata": {},
   "outputs": [],
   "source": []
  },
  {
   "cell_type": "code",
   "execution_count": 17,
   "id": "1f36d40b",
   "metadata": {},
   "outputs": [
    {
     "data": {
      "text/plain": [
       "torch.Size([1, 16, 8, 8])"
      ]
     },
     "execution_count": 17,
     "metadata": {},
     "output_type": "execute_result"
    }
   ],
   "source": [
    "convlayer(img).shape"
   ]
  },
  {
   "cell_type": "code",
   "execution_count": null,
   "id": "07f67706",
   "metadata": {},
   "outputs": [],
   "source": [
    "# what is the benefit of upsampling?"
   ]
  },
  {
   "cell_type": "code",
   "execution_count": 18,
   "id": "b0c6a3d5",
   "metadata": {},
   "outputs": [],
   "source": [
    "convlayer = torch.nn.Sequential(\n",
    "            torch.nn.Upsample(scale_factor=1, mode='nearest'),\n",
    ")"
   ]
  },
  {
   "cell_type": "code",
   "execution_count": 19,
   "id": "91540db3",
   "metadata": {},
   "outputs": [
    {
     "data": {
      "text/plain": [
       "torch.Size([1, 1, 10, 10])"
      ]
     },
     "execution_count": 19,
     "metadata": {},
     "output_type": "execute_result"
    }
   ],
   "source": [
    "convlayer(img).shape\n"
   ]
  },
  {
   "cell_type": "code",
   "execution_count": 20,
   "id": "c60f60b1",
   "metadata": {},
   "outputs": [
    {
     "data": {
      "text/plain": [
       "tensor([[[[0., 0., 0., 0., 0., 0., 0., 0., 0., 0.],\n",
       "          [0., 0., 0., 0., 0., 0., 0., 0., 0., 0.],\n",
       "          [0., 0., 0., 0., 0., 0., 0., 0., 0., 0.],\n",
       "          [0., 0., 0., 0., 0., 0., 0., 0., 0., 0.],\n",
       "          [0., 0., 0., 0., 0., 0., 0., 0., 0., 0.],\n",
       "          [0., 0., 0., 0., 0., 0., 0., 0., 0., 0.],\n",
       "          [0., 0., 0., 0., 0., 0., 0., 0., 0., 0.],\n",
       "          [0., 0., 0., 0., 0., 0., 0., 0., 0., 0.],\n",
       "          [0., 0., 0., 0., 0., 0., 0., 0., 0., 0.],\n",
       "          [0., 0., 0., 0., 0., 0., 0., 0., 0., 0.]]]])"
      ]
     },
     "execution_count": 20,
     "metadata": {},
     "output_type": "execute_result"
    }
   ],
   "source": [
    "img -convlayer(img)"
   ]
  },
  {
   "cell_type": "code",
   "execution_count": null,
   "id": "0a2d6cd1",
   "metadata": {},
   "outputs": [],
   "source": []
  }
 ],
 "metadata": {
  "kernelspec": {
   "display_name": "Python 3 (ipykernel)",
   "language": "python",
   "name": "python3"
  },
  "language_info": {
   "codemirror_mode": {
    "name": "ipython",
    "version": 3
   },
   "file_extension": ".py",
   "mimetype": "text/x-python",
   "name": "python",
   "nbconvert_exporter": "python",
   "pygments_lexer": "ipython3",
   "version": "3.10.9"
  }
 },
 "nbformat": 4,
 "nbformat_minor": 5
}
