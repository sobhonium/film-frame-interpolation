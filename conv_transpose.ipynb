{
 "cells": [
  {
   "cell_type": "code",
   "execution_count": 1,
   "id": "302fedc4-604d-45ff-87bc-c2a00f9b589f",
   "metadata": {},
   "outputs": [],
   "source": [
    "# for convolution transopose I suggest this:\n",
    "# https://indico.cern.ch/event/996880/contributions/4188468/attachments/2193001/3706891/ChiakiYanagisawa_20210219_Conv2d_and_ConvTransposed2d.pdf"
   ]
  },
  {
   "cell_type": "code",
   "execution_count": null,
   "id": "ce85f121-aa9b-4d6f-b935-652d529c083d",
   "metadata": {},
   "outputs": [],
   "source": []
  },
  {
   "cell_type": "code",
   "execution_count": 1,
   "id": "e2f871b4",
   "metadata": {},
   "outputs": [],
   "source": [
    "import torch"
   ]
  },
  {
   "cell_type": "code",
   "execution_count": 2,
   "id": "119b3823",
   "metadata": {},
   "outputs": [],
   "source": [
    "img = torch.rand((1,1, 3, 3))"
   ]
  },
  {
   "cell_type": "code",
   "execution_count": 8,
   "id": "43517005",
   "metadata": {},
   "outputs": [],
   "source": [
    "conv_trans_layer = torch.nn.ConvTranspose2d(in_channels=1, out_channels=1,\n",
    "                                            kernel_size=(3,3), stride=2, padding=1\n",
    "                                           )"
   ]
  },
  {
   "cell_type": "code",
   "execution_count": 7,
   "id": "54b8bb3e",
   "metadata": {},
   "outputs": [
    {
     "data": {
      "text/plain": [
       "torch.Size([1, 1, 4, 4])"
      ]
     },
     "execution_count": 7,
     "metadata": {},
     "output_type": "execute_result"
    }
   ],
   "source": [
    "conv_trans_layer(img).shape"
   ]
  },
  {
   "cell_type": "code",
   "execution_count": null,
   "id": "9fa9ee04",
   "metadata": {},
   "outputs": [],
   "source": [
    "# see the formulations for output size at:\n",
    "#  https://pytorch.org/docs/stable/generated/torch.nn.ConvTranspose2d.html?highlight=convtranspose2d#torch.nn.ConvTranspose2d   "
   ]
  }
 ],
 "metadata": {
  "kernelspec": {
   "display_name": "Python 3 (ipykernel)",
   "language": "python",
   "name": "python3"
  },
  "language_info": {
   "codemirror_mode": {
    "name": "ipython",
    "version": 3
   },
   "file_extension": ".py",
   "mimetype": "text/x-python",
   "name": "python",
   "nbconvert_exporter": "python",
   "pygments_lexer": "ipython3",
   "version": "3.9.12"
  }
 },
 "nbformat": 4,
 "nbformat_minor": 5
}
