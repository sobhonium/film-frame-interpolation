{
 "cells": [
  {
   "cell_type": "code",
   "execution_count": 1,
   "id": "302fedc4-604d-45ff-87bc-c2a00f9b589f",
   "metadata": {},
   "outputs": [],
   "source": [
    "# for convolution transopose I suggest this:\n",
    "# https://indico.cern.ch/event/996880/contributions/4188468/attachments/2193001/3706891/ChiakiYanagisawa_20210219_Conv2d_and_ConvTransposed2d.pdf"
   ]
  },
  {
   "cell_type": "code",
   "execution_count": null,
   "id": "ce85f121-aa9b-4d6f-b935-652d529c083d",
   "metadata": {},
   "outputs": [],
   "source": []
  }
 ],
 "metadata": {
  "kernelspec": {
   "display_name": "Python 3",
   "language": "python",
   "name": "python3"
  },
  "language_info": {
   "codemirror_mode": {
    "name": "ipython",
    "version": 3
   },
   "file_extension": ".py",
   "mimetype": "text/x-python",
   "name": "python",
   "nbconvert_exporter": "python",
   "pygments_lexer": "ipython3",
   "version": "3.9.12"
  }
 },
 "nbformat": 4,
 "nbformat_minor": 5
}
