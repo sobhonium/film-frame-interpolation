{
 "cells": [
  {
   "cell_type": "code",
   "execution_count": 1,
   "id": "3d316c1d-15eb-46f5-952f-3db5e8327847",
   "metadata": {},
   "outputs": [],
   "source": [
    "import torch"
   ]
  },
  {
   "cell_type": "code",
   "execution_count": 2,
   "id": "6da6b083-36d0-44b8-b6a0-c0416a896ef3",
   "metadata": {},
   "outputs": [],
   "source": [
    "from torch import nn"
   ]
  },
  {
   "cell_type": "code",
   "execution_count": 3,
   "id": "3456be54-b035-43d7-8201-d647b4395079",
   "metadata": {},
   "outputs": [],
   "source": [
    "import torchvision"
   ]
  },
  {
   "cell_type": "code",
   "execution_count": 4,
   "id": "3882acc6-6fa0-4f10-9bdd-b0ad37eb1338",
   "metadata": {},
   "outputs": [],
   "source": [
    "from torchvision.io import read_image"
   ]
  },
  {
   "cell_type": "code",
   "execution_count": 5,
   "id": "274ee229-358d-4384-98a1-3927ee097ec0",
   "metadata": {},
   "outputs": [],
   "source": [
    "# read_image(\"img (877).jpg\")"
   ]
  },
  {
   "cell_type": "code",
   "execution_count": 6,
   "id": "4c3e9586-0175-4b9d-a1c3-e3dfa3abc804",
   "metadata": {},
   "outputs": [],
   "source": [
    "# Python program to read\n",
    "# image using matplotlib\n",
    " \n",
    "# importing matplotlib modules\n",
    "import matplotlib.image as mpimg\n",
    "import matplotlib.pyplot as plt\n",
    " \n",
    "# Read Images\n",
    "img = mpimg.imread(\"img (877).jpg\")\n",
    "\n",
    "# Output Images\n",
    "# plt.imshow(img)"
   ]
  },
  {
   "cell_type": "code",
   "execution_count": 7,
   "id": "7ff1ad0e-f93d-49fb-a5b0-b536a3e579f3",
   "metadata": {},
   "outputs": [
    {
     "data": {
      "text/plain": [
       "(720, 1280, 3)"
      ]
     },
     "execution_count": 7,
     "metadata": {},
     "output_type": "execute_result"
    }
   ],
   "source": [
    "img.shape"
   ]
  },
  {
   "cell_type": "code",
   "execution_count": null,
   "id": "7cfa2190-1506-4c08-87e3-f817aaf10f1a",
   "metadata": {},
   "outputs": [],
   "source": []
  },
  {
   "cell_type": "code",
   "execution_count": 8,
   "id": "f0bf4f36-f1ee-429f-8a37-b5c5517a33fa",
   "metadata": {},
   "outputs": [],
   "source": [
    "# the probelm to face here is that the images (normally) have w*h*3 shape\n",
    "# but for convlutions we want sth of size 3*w*h"
   ]
  },
  {
   "cell_type": "code",
   "execution_count": 9,
   "id": "e627c418-66c2-4738-ba09-5f39860ed97f",
   "metadata": {},
   "outputs": [],
   "source": [
    "img_torch = torch.zeros((3,720,1280))"
   ]
  },
  {
   "cell_type": "code",
   "execution_count": 10,
   "id": "fe810c17-5a08-4014-aa49-3bbd0ba29a1d",
   "metadata": {},
   "outputs": [
    {
     "data": {
      "text/plain": [
       "((720, 1280), torch.Size([720, 1280]))"
      ]
     },
     "execution_count": 10,
     "metadata": {},
     "output_type": "execute_result"
    }
   ],
   "source": [
    "img [:,:, 0].shape, img_torch[0,:,:].shape"
   ]
  },
  {
   "cell_type": "code",
   "execution_count": 11,
   "id": "ebc5a8b8-fb32-4ee1-86b0-73075b419e52",
   "metadata": {},
   "outputs": [],
   "source": [
    "img_torch[0,:,:] = torch.tensor(img [:,:, 0])\n",
    "img_torch[1,:,:] = torch.tensor(img [:,:, 1])\n",
    "img_torch[2,:,:] = torch.tensor(img [:,:, 2])"
   ]
  },
  {
   "cell_type": "code",
   "execution_count": 12,
   "id": "e7131a21-4a84-40ee-b968-20c6c73e2787",
   "metadata": {},
   "outputs": [],
   "source": [
    "img_torch = img_torch.reshape(1,3,720,1280)"
   ]
  },
  {
   "cell_type": "code",
   "execution_count": 13,
   "id": "f8a67ae1-e3cc-4423-9e0e-1c8dd380ab8a",
   "metadata": {},
   "outputs": [],
   "source": [
    "# img_torch = torch.tensor(img)"
   ]
  },
  {
   "cell_type": "code",
   "execution_count": 14,
   "id": "897cbbb0-b844-4f14-aedf-bd3b722ebd70",
   "metadata": {},
   "outputs": [],
   "source": [
    "CNN = nn.Sequential(\n",
    "    nn.Conv2d(in_channels=3,out_channels=10, kernel_size=(3,3), padding=1) ,\n",
    "    nn.MaxPool2d(kernel_size=(2,2), stride=2)  ,\n",
    "    nn.Conv2d(in_channels=10,out_channels=10, kernel_size=(3,3), padding=1) ,\n",
    "    nn.MaxPool2d(kernel_size=(2,2), stride=2),\n",
    "    nn.Conv2d(in_channels=10,out_channels=10, kernel_size=(3,3), padding=1) ,\n",
    "    nn.MaxPool2d(kernel_size=(2,2), stride=2),\n",
    "    nn.Conv2d(in_channels=10,out_channels=10, kernel_size=(3,3), padding=1) ,\n",
    "    nn.MaxPool2d(kernel_size=(2,2), stride=2),\n",
    "    nn.Conv2d(in_channels=10,out_channels=1, kernel_size=(3,3), padding=1) ,\n",
    "    nn.MaxPool2d(kernel_size=(2,2), stride=2),\n",
    "    nn.Flatten(start_dim=1),\n",
    "    nn.Linear(880,100),\n",
    "    \n",
    "    nn.Linear(100,4*9*16),\n",
    "    # nn.ReLU(True),\n",
    "    # nn.Linear(270, ),\n",
    "    nn.Unflatten(dim=1, unflattened_size=(4,  9,16)),\n",
    "    nn.ConvTranspose2d(in_channels=4, out_channels=8, kernel_size=(5,5), stride=1, padding=2),\n",
    "    nn.Upsample(scale_factor=(4,4), mode='bilinear'),\n",
    "    \n",
    "    nn.ConvTranspose2d(in_channels=8, out_channels=8, kernel_size=(5,5), stride=1, padding=2),\n",
    "    nn.Upsample(scale_factor=(4,4), mode='bilinear'),\n",
    "    \n",
    "    nn.ConvTranspose2d(in_channels=8, out_channels=1, kernel_size=(5,5), stride=1, padding=2),\n",
    "    nn.Upsample(scale_factor=(5,5), mode='bilinear'),\n",
    "\n",
    "    \n",
    "    \n",
    ")"
   ]
  },
  {
   "cell_type": "code",
   "execution_count": 15,
   "id": "2820906f-6b9b-40b4-8e31-86d24f0d1654",
   "metadata": {},
   "outputs": [],
   "source": [
    "CNN = CNN.float()"
   ]
  },
  {
   "cell_type": "code",
   "execution_count": null,
   "id": "6ef95723-716f-45fa-9d80-d2b1def7d01b",
   "metadata": {},
   "outputs": [],
   "source": []
  },
  {
   "cell_type": "code",
   "execution_count": 16,
   "id": "13baebed-2f2c-4fd5-b270-1d0b29333ae3",
   "metadata": {},
   "outputs": [
    {
     "name": "stderr",
     "output_type": "stream",
     "text": [
      "/home/sobhan/miniconda3/envs/ml-dl/lib/python3.9/site-packages/torch/nn/functional.py:3060: UserWarning: Default upsampling behavior when mode=bilinear is changed to align_corners=False since 0.4.0. Please specify align_corners=True if the old behavior is desired. See the documentation of nn.Upsample for details.\n",
      "  warnings.warn(\"Default upsampling behavior when mode={} is changed \"\n"
     ]
    },
    {
     "data": {
      "text/plain": [
       "torch.Size([1, 1, 720, 1280])"
      ]
     },
     "execution_count": 16,
     "metadata": {},
     "output_type": "execute_result"
    }
   ],
   "source": [
    "CNNed_img = CNN(img_torch.float())\n",
    "CNNed_img.shape"
   ]
  },
  {
   "cell_type": "code",
   "execution_count": 17,
   "id": "97b1ed79-5d99-4557-9fdb-31a000b4e2f8",
   "metadata": {},
   "outputs": [
    {
     "data": {
      "text/plain": [
       "<matplotlib.image.AxesImage at 0x7fec8a7c9f40>"
      ]
     },
     "execution_count": 17,
     "metadata": {},
     "output_type": "execute_result"
    },
    {
     "data": {
      "image/png": "[encoded data removed]",
      "text/plain": [
       "<Figure size 432x288 with 1 Axes>"
      ]
     },
     "metadata": {
      "needs_background": "light"
     },
     "output_type": "display_data"
    }
   ],
   "source": [
    "plt.imshow(CNNed_img.\n",
    "           reshape(CNNed_img.shape[2],CNNed_img.shape[3])\n",
    "           .detach().numpy())"
   ]
  },
  {
   "cell_type": "code",
   "execution_count": null,
   "id": "3b74c7f3-5859-4573-bc56-8fb4ba10f2d9",
   "metadata": {},
   "outputs": [],
   "source": []
  },
  {
   "cell_type": "code",
   "execution_count": 18,
   "id": "4263666c-c4a3-4aae-8ba1-01f600eaf0ee",
   "metadata": {},
   "outputs": [],
   "source": [
    "CNN = nn.Sequential(\n",
    "    nn.Conv2d(in_channels=3,out_channels=10, kernel_size=(3,3), padding=1) ,\n",
    "    nn.MaxPool2d(kernel_size=(2,2), stride=2)  \n",
    "    # nn.Conv2d(in_channels=3,out_channels=10, kernel_size=(3,3), padding=1) ,\n",
    "    # nn.MaxPool2d(kernel_size=(2,2), stride=2)\n",
    "    # nn.Conv2d(in_channels=3,out_channels=10, kernel_size=(3,3), padding=1) ,\n",
    "\n",
    "\n",
    "    \n",
    ")"
   ]
  },
  {
   "cell_type": "code",
   "execution_count": 19,
   "id": "3fc72d52-096b-4b65-819a-098c9c548e2b",
   "metadata": {},
   "outputs": [],
   "source": [
    "# CNN(img1)\n",
    "# CNN(img2)"
   ]
  },
  {
   "cell_type": "code",
   "execution_count": 20,
   "id": "61f76a25-d54e-411c-a5b9-2dedd0223a52",
   "metadata": {},
   "outputs": [],
   "source": [
    "# to do:\n",
    "# add ReLU after each conv"
   ]
  },
  {
   "cell_type": "code",
   "execution_count": null,
   "id": "58678cb0-b717-4484-9358-8fd4c4c02015",
   "metadata": {},
   "outputs": [],
   "source": []
  },
  {
   "cell_type": "code",
   "execution_count": 21,
   "id": "a6f091da-4f67-4973-9937-e741080dab4f",
   "metadata": {},
   "outputs": [],
   "source": [
    "CNN_enc = nn.Sequential(\n",
    "    nn.Conv2d(in_channels=3,out_channels=10, kernel_size=(3,3), padding=1) ,\n",
    "    # nn.ReLU(),\n",
    "    nn.MaxPool2d(kernel_size=(2,2), stride=2)  ,\n",
    "    nn.ReLU(),\n",
    "    nn.Conv2d(in_channels=10,out_channels=10, kernel_size=(3,3), padding=1) ,\n",
    "    nn.MaxPool2d(kernel_size=(2,2), stride=2),\n",
    "    nn.ReLU(),\n",
    "    nn.Conv2d(in_channels=10,out_channels=1, kernel_size=(3,3), padding=1) ,\n",
    "    nn.MaxPool2d(kernel_size=(5,5), stride=2, padding=2),\n",
    "    nn.ReLU(),\n",
    "    \n",
    "    # nn.Conv2d(in_channels=10,out_channels=10, kernel_size=(3,3), padding=1) ,\n",
    "    # nn.MaxPool2d(kernel_size=(2,2), stride=2),\n",
    "    # nn.ReLU(),\n",
    "    # nn.Conv2d(in_channels=10,out_channels=1, kernel_size=(3,3), padding=1) ,\n",
    "    # nn.MaxPool2d(kernel_size=(2,2), stride=2),\n",
    "    # nn.ReLU(),\n",
    "    # nn.Flatten(start_dim=1),\n",
    "    # nn.Linear(144000, 8800)\n",
    "    nn.Flatten(start_dim=1),\n",
    "    nn.ReLU(),\n",
    "\n",
    "    nn.Linear(90*160,100),\n",
    "    nn.ReLU(),\n",
    "\n",
    "    nn.Linear(100,100),\n",
    "    nn.ReLU(),\n",
    "\n",
    ")"
   ]
  },
  {
   "cell_type": "code",
   "execution_count": 22,
   "id": "7c0efd25-d6ac-483f-bacd-7a4bee82f480",
   "metadata": {},
   "outputs": [
    {
     "data": {
      "text/plain": [
       "torch.Size([1, 100])"
      ]
     },
     "execution_count": 22,
     "metadata": {},
     "output_type": "execute_result"
    }
   ],
   "source": [
    "CNN_enc(img_torch).shape"
   ]
  },
  {
   "cell_type": "code",
   "execution_count": null,
   "id": "83d97e23-ee3f-47f7-9376-6d36db350c4f",
   "metadata": {},
   "outputs": [],
   "source": []
  },
  {
   "cell_type": "code",
   "execution_count": 23,
   "id": "3e5d7fb6-b36d-48ea-8fe5-78a39970aa4b",
   "metadata": {},
   "outputs": [],
   "source": [
    "CNN_dec = nn.Sequential(\n",
    "    nn.Linear(100+100,4*9*16),\n",
    "    # nn.ReLU(True),\n",
    "    # nn.Linear(270, ),\n",
    "    nn.Unflatten(dim=1, unflattened_size=(4,  9,16)),\n",
    "    nn.ConvTranspose2d(in_channels=4, out_channels=8, kernel_size=(5,5), stride=1, padding=2),\n",
    "    nn.ReLU(),\n",
    "\n",
    "#     nn.Upsample(scale_factor=(4,4), mode='bilinear'),\n",
    "    \n",
    "#     nn.ConvTranspose2d(in_channels=8, out_channels=8, kernel_size=(5,5), stride=1, padding=2),\n",
    "#     nn.ReLU(),\n",
    "    \n",
    "#     nn.Upsample(scale_factor=(4,4), mode='bilinear'),\n",
    "    \n",
    "#     nn.ConvTranspose2d(in_channels=8, out_channels=1, kernel_size=(5,5), stride=1, padding=2),\n",
    "#     nn.ReLU(),\n",
    "    \n",
    "#     nn.Upsample(scale_factor=(5,5), mode='bilinear'),\n",
    ")\n"
   ]
  },
  {
   "cell_type": "code",
   "execution_count": 30,
   "id": "af47b6fb-0648-405b-aba1-b361f06a473c",
   "metadata": {},
   "outputs": [
    {
     "data": {
      "text/plain": [
       "torch.Size([1, 8, 9, 16])"
      ]
     },
     "execution_count": 30,
     "metadata": {},
     "output_type": "execute_result"
    }
   ],
   "source": [
    "CNN_dec(torch.rand((1, 200))).shape"
   ]
  },
  {
   "cell_type": "code",
   "execution_count": 24,
   "id": "3b4499e1-f2e5-46f4-ba4d-01227093d219",
   "metadata": {},
   "outputs": [],
   "source": [
    "# CNN_dec(CNN_enc(torch.cat((img_torch, img_torch), axis=1)))"
   ]
  },
  {
   "cell_type": "code",
   "execution_count": 25,
   "id": "1bb81e27-b126-48d8-b1ad-3cf938fb650d",
   "metadata": {},
   "outputs": [
    {
     "data": {
      "text/plain": [
       "torch.Size([1, 100])"
      ]
     },
     "execution_count": 25,
     "metadata": {},
     "output_type": "execute_result"
    }
   ],
   "source": [
    "CNN_enc(img_torch).shape"
   ]
  },
  {
   "cell_type": "code",
   "execution_count": null,
   "id": "d02d2979-7d8a-4175-a0ed-16a02cd6f30d",
   "metadata": {},
   "outputs": [],
   "source": []
  },
  {
   "cell_type": "code",
   "execution_count": 26,
   "id": "32b67a8b-d0d4-4440-a825-5199d50dd0db",
   "metadata": {},
   "outputs": [
    {
     "data": {
      "text/plain": [
       "torch.Size([1, 200])"
      ]
     },
     "execution_count": 26,
     "metadata": {},
     "output_type": "execute_result"
    }
   ],
   "source": [
    "img1_cnn_enc = CNN_enc(img_torch)\n",
    "img2_cnn_enc = CNN_enc(img_torch)\n",
    "torch.cat((img1_cnn_enc, img2_cnn_enc), axis=1).shape"
   ]
  },
  {
   "cell_type": "code",
   "execution_count": null,
   "id": "aae1d2b8-9069-4b47-b82d-f7e720d870a4",
   "metadata": {},
   "outputs": [],
   "source": []
  },
  {
   "cell_type": "code",
   "execution_count": 27,
   "id": "ad46834a-e18c-4722-9217-a4f85c8dc9dd",
   "metadata": {},
   "outputs": [],
   "source": [
    "class Net(nn.Module):\n",
    "    def __init__(self):\n",
    "        super(Net, self).__init__()        \n",
    "        # self.img1 = img1\n",
    "        # self.img2 = img2\n",
    "\n",
    "    def forward(self, img1, img2):\n",
    "        img1_cnn_enc = CNN_enc(img1)\n",
    "        img2_cnn_enc = CNN_enc(img2)\n",
    "\n",
    "        inp = torch.cat((img1_cnn_enc, img2_cnn_enc), axis=1)\n",
    "        return CNN_dec(inp)\n",
    "        \n",
    "        \n",
    "        \n",
    "    "
   ]
  },
  {
   "cell_type": "code",
   "execution_count": 28,
   "id": "337bbdc4-b290-4675-a9a2-4755a5e0ef03",
   "metadata": {},
   "outputs": [
    {
     "data": {
      "text/plain": [
       "torch.Size([1, 3, 720, 1280])"
      ]
     },
     "execution_count": 28,
     "metadata": {},
     "output_type": "execute_result"
    }
   ],
   "source": [
    "img_torch.shape"
   ]
  },
  {
   "cell_type": "code",
   "execution_count": 29,
   "id": "efbf7683-233d-480d-8ff3-39ccfc2e5f53",
   "metadata": {},
   "outputs": [],
   "source": [
    "net = Net()"
   ]
  },
  {
   "cell_type": "code",
   "execution_count": 30,
   "id": "047faea6-5130-43e1-b481-5955692c7f1b",
   "metadata": {},
   "outputs": [
    {
     "data": {
      "text/plain": [
       "torch.Size([1, 1, 720, 1280])"
      ]
     },
     "execution_count": 30,
     "metadata": {},
     "output_type": "execute_result"
    }
   ],
   "source": [
    "net(img_torch, img_torch).shape"
   ]
  },
  {
   "cell_type": "code",
   "execution_count": null,
   "id": "3778fdb9-e112-484a-a162-8e772db091a4",
   "metadata": {},
   "outputs": [],
   "source": []
  },
  {
   "cell_type": "code",
   "execution_count": 31,
   "id": "2747d9cd-891a-4c79-aa01-29009fd30fee",
   "metadata": {},
   "outputs": [],
   "source": [
    "# Python program to read\n",
    "# image using matplotlib\n",
    " \n",
    "# importing matplotlib modules\n",
    "import matplotlib.image as mpimg\n",
    "import matplotlib.pyplot as plt\n",
    " \n",
    "# Read Images\n",
    "img = mpimg.imread(\"img (877).jpg\")\n"
   ]
  },
  {
   "cell_type": "code",
   "execution_count": 32,
   "id": "d1c3d860-f221-462d-ab8b-fac0ba4fe443",
   "metadata": {},
   "outputs": [],
   "source": [
    "import os\n",
    "from os import listdir\n",
    " \n",
    "img = []\n",
    "folder_dir = \"data/oldman\"\n",
    "for images_name in os.listdir(folder_dir):\n",
    " \n",
    "    # check if the image ends with png or jpg or jpeg\n",
    "    if (images_name.endswith(\".png\") or images_name.endswith(\".jpg\")):\n",
    "        # display\n",
    "        img.append(mpimg.imread(folder_dir+\"/\"+images_name))\n",
    "        # print(images_name)"
   ]
  },
  {
   "cell_type": "code",
   "execution_count": 33,
   "id": "64fb847a-5b13-4fce-b962-8b3a6967b70a",
   "metadata": {},
   "outputs": [
    {
     "data": {
      "text/plain": [
       "(720, 1280, 3)"
      ]
     },
     "execution_count": 33,
     "metadata": {},
     "output_type": "execute_result"
    }
   ],
   "source": [
    "img[0].shape"
   ]
  },
  {
   "cell_type": "code",
   "execution_count": 34,
   "id": "bb6e673b-1c3c-40cb-ba27-3b1fb35f11ea",
   "metadata": {},
   "outputs": [],
   "source": [
    "# img = torch.tensor(img)"
   ]
  },
  {
   "cell_type": "code",
   "execution_count": 35,
   "id": "4224185f-e6e9-47be-b93a-4b9a00d2be73",
   "metadata": {},
   "outputs": [],
   "source": [
    "# img.shape"
   ]
  },
  {
   "cell_type": "code",
   "execution_count": 36,
   "id": "2164cba2-9672-409d-97ee-9d4db8ecba7e",
   "metadata": {},
   "outputs": [],
   "source": [
    "img_torch = torch.zeros((len(img), 3,720,1280))\n",
    "# img_torch = torch.zeros((3,720,1280))\n",
    "for i in range(len(img)):\n",
    "    img_torch[i, 0,:,:] = torch.tensor(img[i] [:,:, 0])\n",
    "    img_torch[i, 1,:,:] = torch.tensor(img[i] [:,:, 1])\n",
    "    img_torch[i, 2,:,:] = torch.tensor(img[i] [:,:, 2])"
   ]
  },
  {
   "cell_type": "code",
   "execution_count": 37,
   "id": "1a446c51-6cc6-49f1-a244-83bd792ee76f",
   "metadata": {},
   "outputs": [
    {
     "data": {
      "text/plain": [
       "torch.Size([125, 3, 720, 1280])"
      ]
     },
     "execution_count": 37,
     "metadata": {},
     "output_type": "execute_result"
    }
   ],
   "source": [
    "img_torch.shape"
   ]
  },
  {
   "cell_type": "code",
   "execution_count": null,
   "id": "58852984-4434-4c50-9c43-847c4bad5745",
   "metadata": {},
   "outputs": [],
   "source": []
  },
  {
   "cell_type": "code",
   "execution_count": null,
   "id": "4437ea30-105b-4154-a879-fadfe5090267",
   "metadata": {},
   "outputs": [],
   "source": []
  },
  {
   "cell_type": "code",
   "execution_count": 38,
   "id": "6c56fee0-c2ec-45fa-a0d4-0f1a5a0d6a40",
   "metadata": {},
   "outputs": [],
   "source": [
    "# img[0]\n",
    "import numpy as np"
   ]
  },
  {
   "cell_type": "code",
   "execution_count": 39,
   "id": "913cec3c-97a5-449c-88f5-5201ef581790",
   "metadata": {},
   "outputs": [],
   "source": [
    "# plt.imshow(img[80].reshape(720, 1280, 3))"
   ]
  },
  {
   "cell_type": "code",
   "execution_count": 40,
   "id": "beceeca7-0e2a-417a-a75a-cc3e0f7eaa1f",
   "metadata": {},
   "outputs": [
    {
     "data": {
      "text/plain": [
       "<generator object Module.parameters at 0x7f9e35a8c2e0>"
      ]
     },
     "execution_count": 40,
     "metadata": {},
     "output_type": "execute_result"
    }
   ],
   "source": [
    "net.parameters()"
   ]
  },
  {
   "cell_type": "code",
   "execution_count": 41,
   "id": "4cc5f829-08de-49d4-9035-b33d7af4fe4e",
   "metadata": {},
   "outputs": [],
   "source": [
    "lr= 0.003\n",
    "params_to_optimize = [{'params':net.parameters()}]\n",
    "\n",
    "optim = torch.optim.Adam(params_to_optimize, lr=lr, weight_decay=1e-05)"
   ]
  },
  {
   "cell_type": "code",
   "execution_count": null,
   "id": "0bd7554b-4c2b-4f4e-b764-7165fb8783b9",
   "metadata": {},
   "outputs": [],
   "source": []
  },
  {
   "cell_type": "code",
   "execution_count": 42,
   "id": "aa2341da-3fc2-4ec8-9967-b692da34a45e",
   "metadata": {},
   "outputs": [
    {
     "data": {
      "text/plain": [
       "torch.Size([1, 1, 720, 1280])"
      ]
     },
     "execution_count": 42,
     "metadata": {},
     "output_type": "execute_result"
    }
   ],
   "source": [
    "net(img_torch[0].reshape(1,3, 720, 1280), \n",
    "    img_torch[2].reshape(1,3, 720, 1280)\n",
    "   ).shape"
   ]
  },
  {
   "cell_type": "code",
   "execution_count": 43,
   "id": "d5e6d0c1-2c3b-45af-a030-2643bdf02a08",
   "metadata": {},
   "outputs": [],
   "source": [
    "# for i in range(0,10,2):\n",
    "#     print(i)"
   ]
  },
  {
   "cell_type": "code",
   "execution_count": 44,
   "id": "7420386e-5072-4846-b627-5d7046091b55",
   "metadata": {},
   "outputs": [],
   "source": [
    "def train_epoch(loss_fn, optimizer):\n",
    "    # Set train mode for both the encoder and the decoder\n",
    "    net.train()\n",
    "    for epoch in range(20):\n",
    "        train_loss = []\n",
    "        # Iterate the dataloader (we do not need the label values, this is unsupervised learning)\n",
    "        for i in range(0, len(img)-2, 2): \n",
    "            \n",
    "            # two points are inputs\n",
    "            y_hat = net(img_torch[i].reshape(1,3, 720, 1280), \n",
    "                        img_torch[i+2].reshape(1,3, 720, 1280)\n",
    "                       )\n",
    "            \n",
    "            # middle point\n",
    "            y = img_torch[i+1].reshape(1,3, 720, 1280)\n",
    "            \n",
    "            # Evaluate loss\n",
    "            loss = loss_fn(y, y_hat)\n",
    "            print(loss)\n",
    "\n",
    "            # Backward pass\n",
    "            optimizer.zero_grad()\n",
    "            loss.backward()\n",
    "            optimizer.step()\n",
    "            train_loss.append(loss.detach().cpu().numpy())\n",
    "            # Print batch loss\n",
    "        print(f' epoch: {epoch}:  {np.mean(train_loss)}')\n",
    "        \n",
    "\n",
    "    return np.mean(train_loss)"
   ]
  },
  {
   "cell_type": "code",
   "execution_count": null,
   "id": "f9b11793-3328-4477-a841-7ff2d2ed102d",
   "metadata": {},
   "outputs": [],
   "source": []
  },
  {
   "cell_type": "code",
   "execution_count": 45,
   "id": "d08a6465-e22c-4e70-91cc-193f5766cbfb",
   "metadata": {},
   "outputs": [],
   "source": [
    "loss_fn = torch.nn.MSELoss()"
   ]
  },
  {
   "cell_type": "code",
   "execution_count": null,
   "id": "dfcad5b2-a549-4283-b372-40ee2b451dc5",
   "metadata": {},
   "outputs": [],
   "source": []
  },
  {
   "cell_type": "code",
   "execution_count": 46,
   "id": "2a7e25b7-7ccf-4335-9fa3-0311950d26de",
   "metadata": {},
   "outputs": [
    {
     "data": {
      "text/plain": [
       "tensor(0.1887)"
      ]
     },
     "execution_count": 46,
     "metadata": {},
     "output_type": "execute_result"
    }
   ],
   "source": [
    "loss_fn(img_torch[0].reshape(1,3, 720, 1280), \n",
    "        img_torch[10].reshape(1,3, 720, 1280)\n",
    "        )"
   ]
  },
  {
   "cell_type": "code",
   "execution_count": 47,
   "id": "d5f50646-6111-4088-9ecd-89d952a2b4e9",
   "metadata": {},
   "outputs": [
    {
     "name": "stderr",
     "output_type": "stream",
     "text": [
      "/home/sobhan/miniconda3/envs/ml-dl/lib/python3.9/site-packages/torch/nn/modules/loss.py:446: UserWarning: Using a target size (torch.Size([1, 1, 720, 1280])) that is different to the input size (torch.Size([1, 3, 720, 1280])). This will likely lead to incorrect results due to broadcasting. Please ensure they have the same size.\n",
      "  return F.mse_loss(input, target, reduction=self.reduction)\n"
     ]
    },
    {
     "name": "stdout",
     "output_type": "stream",
     "text": [
      "tensor(21461.0273, grad_fn=<MseLossBackward>)\n",
      "tensor(21075.7949, grad_fn=<MseLossBackward>)\n",
      "tensor(20946.8750, grad_fn=<MseLossBackward>)\n",
      "tensor(21104.9355, grad_fn=<MseLossBackward>)\n",
      "tensor(21469.1191, grad_fn=<MseLossBackward>)\n",
      "tensor(20840.2012, grad_fn=<MseLossBackward>)\n",
      "tensor(20982.7930, grad_fn=<MseLossBackward>)\n",
      "tensor(20886.5508, grad_fn=<MseLossBackward>)\n",
      "tensor(21062.1367, grad_fn=<MseLossBackward>)\n",
      "tensor(21101.2266, grad_fn=<MseLossBackward>)\n",
      "tensor(21305.0273, grad_fn=<MseLossBackward>)\n",
      "tensor(21334.2812, grad_fn=<MseLossBackward>)\n",
      "tensor(21150.8984, grad_fn=<MseLossBackward>)\n",
      "tensor(21475.5488, grad_fn=<MseLossBackward>)\n",
      "tensor(21017.8555, grad_fn=<MseLossBackward>)\n"
     ]
    },
    {
     "ename": "KeyboardInterrupt",
     "evalue": "",
     "output_type": "error",
     "traceback": [
      "\u001b[0;31m---------------------------------------------------------------------------\u001b[0m",
      "\u001b[0;31mKeyboardInterrupt\u001b[0m                         Traceback (most recent call last)",
      "Input \u001b[0;32mIn [47]\u001b[0m, in \u001b[0;36m<cell line: 1>\u001b[0;34m()\u001b[0m\n\u001b[0;32m----> 1\u001b[0m \u001b[43mtrain_epoch\u001b[49m\u001b[43m(\u001b[49m\n\u001b[1;32m      2\u001b[0m \u001b[43m            \u001b[49m\u001b[43mloss_fn\u001b[49m\u001b[38;5;241;43m=\u001b[39;49m\u001b[43mloss_fn\u001b[49m\u001b[43m,\u001b[49m\u001b[43m \u001b[49m\n\u001b[1;32m      3\u001b[0m \u001b[43m            \u001b[49m\u001b[43moptimizer\u001b[49m\u001b[38;5;241;43m=\u001b[39;49m\u001b[43moptim\u001b[49m\u001b[43m)\u001b[49m\n",
      "Input \u001b[0;32mIn [44]\u001b[0m, in \u001b[0;36mtrain_epoch\u001b[0;34m(loss_fn, optimizer)\u001b[0m\n\u001b[1;32m      6\u001b[0m \u001b[38;5;66;03m# Iterate the dataloader (we do not need the label values, this is unsupervised learning)\u001b[39;00m\n\u001b[1;32m      7\u001b[0m \u001b[38;5;28;01mfor\u001b[39;00m i \u001b[38;5;129;01min\u001b[39;00m \u001b[38;5;28mrange\u001b[39m(\u001b[38;5;241m0\u001b[39m, \u001b[38;5;28mlen\u001b[39m(img)\u001b[38;5;241m-\u001b[39m\u001b[38;5;241m2\u001b[39m, \u001b[38;5;241m2\u001b[39m): \n\u001b[1;32m      8\u001b[0m     \n\u001b[1;32m      9\u001b[0m     \u001b[38;5;66;03m# two points are inputs\u001b[39;00m\n\u001b[0;32m---> 10\u001b[0m     y_hat \u001b[38;5;241m=\u001b[39m \u001b[43mnet\u001b[49m\u001b[43m(\u001b[49m\u001b[43mimg_torch\u001b[49m\u001b[43m[\u001b[49m\u001b[43mi\u001b[49m\u001b[43m]\u001b[49m\u001b[38;5;241;43m.\u001b[39;49m\u001b[43mreshape\u001b[49m\u001b[43m(\u001b[49m\u001b[38;5;241;43m1\u001b[39;49m\u001b[43m,\u001b[49m\u001b[38;5;241;43m3\u001b[39;49m\u001b[43m,\u001b[49m\u001b[43m \u001b[49m\u001b[38;5;241;43m720\u001b[39;49m\u001b[43m,\u001b[49m\u001b[43m \u001b[49m\u001b[38;5;241;43m1280\u001b[39;49m\u001b[43m)\u001b[49m\u001b[43m,\u001b[49m\u001b[43m \u001b[49m\n\u001b[1;32m     11\u001b[0m \u001b[43m                \u001b[49m\u001b[43mimg_torch\u001b[49m\u001b[43m[\u001b[49m\u001b[43mi\u001b[49m\u001b[38;5;241;43m+\u001b[39;49m\u001b[38;5;241;43m2\u001b[39;49m\u001b[43m]\u001b[49m\u001b[38;5;241;43m.\u001b[39;49m\u001b[43mreshape\u001b[49m\u001b[43m(\u001b[49m\u001b[38;5;241;43m1\u001b[39;49m\u001b[43m,\u001b[49m\u001b[38;5;241;43m3\u001b[39;49m\u001b[43m,\u001b[49m\u001b[43m \u001b[49m\u001b[38;5;241;43m720\u001b[39;49m\u001b[43m,\u001b[49m\u001b[43m \u001b[49m\u001b[38;5;241;43m1280\u001b[39;49m\u001b[43m)\u001b[49m\n\u001b[1;32m     12\u001b[0m \u001b[43m               \u001b[49m\u001b[43m)\u001b[49m\n\u001b[1;32m     14\u001b[0m     \u001b[38;5;66;03m# middle point\u001b[39;00m\n\u001b[1;32m     15\u001b[0m     y \u001b[38;5;241m=\u001b[39m img_torch[i\u001b[38;5;241m+\u001b[39m\u001b[38;5;241m1\u001b[39m]\u001b[38;5;241m.\u001b[39mreshape(\u001b[38;5;241m1\u001b[39m,\u001b[38;5;241m3\u001b[39m, \u001b[38;5;241m720\u001b[39m, \u001b[38;5;241m1280\u001b[39m)\n",
      "File \u001b[0;32m~/miniconda3/envs/ml-dl/lib/python3.9/site-packages/torch/nn/modules/module.py:727\u001b[0m, in \u001b[0;36mModule._call_impl\u001b[0;34m(self, *input, **kwargs)\u001b[0m\n\u001b[1;32m    725\u001b[0m     result \u001b[38;5;241m=\u001b[39m \u001b[38;5;28mself\u001b[39m\u001b[38;5;241m.\u001b[39m_slow_forward(\u001b[38;5;241m*\u001b[39m\u001b[38;5;28minput\u001b[39m, \u001b[38;5;241m*\u001b[39m\u001b[38;5;241m*\u001b[39mkwargs)\n\u001b[1;32m    726\u001b[0m \u001b[38;5;28;01melse\u001b[39;00m:\n\u001b[0;32m--> 727\u001b[0m     result \u001b[38;5;241m=\u001b[39m \u001b[38;5;28;43mself\u001b[39;49m\u001b[38;5;241;43m.\u001b[39;49m\u001b[43mforward\u001b[49m\u001b[43m(\u001b[49m\u001b[38;5;241;43m*\u001b[39;49m\u001b[38;5;28;43minput\u001b[39;49m\u001b[43m,\u001b[49m\u001b[43m \u001b[49m\u001b[38;5;241;43m*\u001b[39;49m\u001b[38;5;241;43m*\u001b[39;49m\u001b[43mkwargs\u001b[49m\u001b[43m)\u001b[49m\n\u001b[1;32m    728\u001b[0m \u001b[38;5;28;01mfor\u001b[39;00m hook \u001b[38;5;129;01min\u001b[39;00m itertools\u001b[38;5;241m.\u001b[39mchain(\n\u001b[1;32m    729\u001b[0m         _global_forward_hooks\u001b[38;5;241m.\u001b[39mvalues(),\n\u001b[1;32m    730\u001b[0m         \u001b[38;5;28mself\u001b[39m\u001b[38;5;241m.\u001b[39m_forward_hooks\u001b[38;5;241m.\u001b[39mvalues()):\n\u001b[1;32m    731\u001b[0m     hook_result \u001b[38;5;241m=\u001b[39m hook(\u001b[38;5;28mself\u001b[39m, \u001b[38;5;28minput\u001b[39m, result)\n",
      "Input \u001b[0;32mIn [27]\u001b[0m, in \u001b[0;36mNet.forward\u001b[0;34m(self, img1, img2)\u001b[0m\n\u001b[1;32m      7\u001b[0m \u001b[38;5;28;01mdef\u001b[39;00m \u001b[38;5;21mforward\u001b[39m(\u001b[38;5;28mself\u001b[39m, img1, img2):\n\u001b[1;32m      8\u001b[0m     img1_cnn_enc \u001b[38;5;241m=\u001b[39m CNN_enc(img1)\n\u001b[0;32m----> 9\u001b[0m     img2_cnn_enc \u001b[38;5;241m=\u001b[39m \u001b[43mCNN_enc\u001b[49m\u001b[43m(\u001b[49m\u001b[43mimg2\u001b[49m\u001b[43m)\u001b[49m\n\u001b[1;32m     11\u001b[0m     inp \u001b[38;5;241m=\u001b[39m torch\u001b[38;5;241m.\u001b[39mcat((img1_cnn_enc, img2_cnn_enc), axis\u001b[38;5;241m=\u001b[39m\u001b[38;5;241m1\u001b[39m)\n\u001b[1;32m     12\u001b[0m     \u001b[38;5;28;01mreturn\u001b[39;00m CNN_dec(inp)\n",
      "File \u001b[0;32m~/miniconda3/envs/ml-dl/lib/python3.9/site-packages/torch/nn/modules/module.py:727\u001b[0m, in \u001b[0;36mModule._call_impl\u001b[0;34m(self, *input, **kwargs)\u001b[0m\n\u001b[1;32m    725\u001b[0m     result \u001b[38;5;241m=\u001b[39m \u001b[38;5;28mself\u001b[39m\u001b[38;5;241m.\u001b[39m_slow_forward(\u001b[38;5;241m*\u001b[39m\u001b[38;5;28minput\u001b[39m, \u001b[38;5;241m*\u001b[39m\u001b[38;5;241m*\u001b[39mkwargs)\n\u001b[1;32m    726\u001b[0m \u001b[38;5;28;01melse\u001b[39;00m:\n\u001b[0;32m--> 727\u001b[0m     result \u001b[38;5;241m=\u001b[39m \u001b[38;5;28;43mself\u001b[39;49m\u001b[38;5;241;43m.\u001b[39;49m\u001b[43mforward\u001b[49m\u001b[43m(\u001b[49m\u001b[38;5;241;43m*\u001b[39;49m\u001b[38;5;28;43minput\u001b[39;49m\u001b[43m,\u001b[49m\u001b[43m \u001b[49m\u001b[38;5;241;43m*\u001b[39;49m\u001b[38;5;241;43m*\u001b[39;49m\u001b[43mkwargs\u001b[49m\u001b[43m)\u001b[49m\n\u001b[1;32m    728\u001b[0m \u001b[38;5;28;01mfor\u001b[39;00m hook \u001b[38;5;129;01min\u001b[39;00m itertools\u001b[38;5;241m.\u001b[39mchain(\n\u001b[1;32m    729\u001b[0m         _global_forward_hooks\u001b[38;5;241m.\u001b[39mvalues(),\n\u001b[1;32m    730\u001b[0m         \u001b[38;5;28mself\u001b[39m\u001b[38;5;241m.\u001b[39m_forward_hooks\u001b[38;5;241m.\u001b[39mvalues()):\n\u001b[1;32m    731\u001b[0m     hook_result \u001b[38;5;241m=\u001b[39m hook(\u001b[38;5;28mself\u001b[39m, \u001b[38;5;28minput\u001b[39m, result)\n",
      "File \u001b[0;32m~/miniconda3/envs/ml-dl/lib/python3.9/site-packages/torch/nn/modules/container.py:117\u001b[0m, in \u001b[0;36mSequential.forward\u001b[0;34m(self, input)\u001b[0m\n\u001b[1;32m    115\u001b[0m \u001b[38;5;28;01mdef\u001b[39;00m \u001b[38;5;21mforward\u001b[39m(\u001b[38;5;28mself\u001b[39m, \u001b[38;5;28minput\u001b[39m):\n\u001b[1;32m    116\u001b[0m     \u001b[38;5;28;01mfor\u001b[39;00m module \u001b[38;5;129;01min\u001b[39;00m \u001b[38;5;28mself\u001b[39m:\n\u001b[0;32m--> 117\u001b[0m         \u001b[38;5;28minput\u001b[39m \u001b[38;5;241m=\u001b[39m \u001b[43mmodule\u001b[49m\u001b[43m(\u001b[49m\u001b[38;5;28;43minput\u001b[39;49m\u001b[43m)\u001b[49m\n\u001b[1;32m    118\u001b[0m     \u001b[38;5;28;01mreturn\u001b[39;00m \u001b[38;5;28minput\u001b[39m\n",
      "File \u001b[0;32m~/miniconda3/envs/ml-dl/lib/python3.9/site-packages/torch/nn/modules/module.py:727\u001b[0m, in \u001b[0;36mModule._call_impl\u001b[0;34m(self, *input, **kwargs)\u001b[0m\n\u001b[1;32m    725\u001b[0m     result \u001b[38;5;241m=\u001b[39m \u001b[38;5;28mself\u001b[39m\u001b[38;5;241m.\u001b[39m_slow_forward(\u001b[38;5;241m*\u001b[39m\u001b[38;5;28minput\u001b[39m, \u001b[38;5;241m*\u001b[39m\u001b[38;5;241m*\u001b[39mkwargs)\n\u001b[1;32m    726\u001b[0m \u001b[38;5;28;01melse\u001b[39;00m:\n\u001b[0;32m--> 727\u001b[0m     result \u001b[38;5;241m=\u001b[39m \u001b[38;5;28;43mself\u001b[39;49m\u001b[38;5;241;43m.\u001b[39;49m\u001b[43mforward\u001b[49m\u001b[43m(\u001b[49m\u001b[38;5;241;43m*\u001b[39;49m\u001b[38;5;28;43minput\u001b[39;49m\u001b[43m,\u001b[49m\u001b[43m \u001b[49m\u001b[38;5;241;43m*\u001b[39;49m\u001b[38;5;241;43m*\u001b[39;49m\u001b[43mkwargs\u001b[49m\u001b[43m)\u001b[49m\n\u001b[1;32m    728\u001b[0m \u001b[38;5;28;01mfor\u001b[39;00m hook \u001b[38;5;129;01min\u001b[39;00m itertools\u001b[38;5;241m.\u001b[39mchain(\n\u001b[1;32m    729\u001b[0m         _global_forward_hooks\u001b[38;5;241m.\u001b[39mvalues(),\n\u001b[1;32m    730\u001b[0m         \u001b[38;5;28mself\u001b[39m\u001b[38;5;241m.\u001b[39m_forward_hooks\u001b[38;5;241m.\u001b[39mvalues()):\n\u001b[1;32m    731\u001b[0m     hook_result \u001b[38;5;241m=\u001b[39m hook(\u001b[38;5;28mself\u001b[39m, \u001b[38;5;28minput\u001b[39m, result)\n",
      "File \u001b[0;32m~/miniconda3/envs/ml-dl/lib/python3.9/site-packages/torch/nn/modules/conv.py:423\u001b[0m, in \u001b[0;36mConv2d.forward\u001b[0;34m(self, input)\u001b[0m\n\u001b[1;32m    422\u001b[0m \u001b[38;5;28;01mdef\u001b[39;00m \u001b[38;5;21mforward\u001b[39m(\u001b[38;5;28mself\u001b[39m, \u001b[38;5;28minput\u001b[39m: Tensor) \u001b[38;5;241m-\u001b[39m\u001b[38;5;241m>\u001b[39m Tensor:\n\u001b[0;32m--> 423\u001b[0m     \u001b[38;5;28;01mreturn\u001b[39;00m \u001b[38;5;28;43mself\u001b[39;49m\u001b[38;5;241;43m.\u001b[39;49m\u001b[43m_conv_forward\u001b[49m\u001b[43m(\u001b[49m\u001b[38;5;28;43minput\u001b[39;49m\u001b[43m,\u001b[49m\u001b[43m \u001b[49m\u001b[38;5;28;43mself\u001b[39;49m\u001b[38;5;241;43m.\u001b[39;49m\u001b[43mweight\u001b[49m\u001b[43m)\u001b[49m\n",
      "File \u001b[0;32m~/miniconda3/envs/ml-dl/lib/python3.9/site-packages/torch/nn/modules/conv.py:419\u001b[0m, in \u001b[0;36mConv2d._conv_forward\u001b[0;34m(self, input, weight)\u001b[0m\n\u001b[1;32m    415\u001b[0m \u001b[38;5;28;01mif\u001b[39;00m \u001b[38;5;28mself\u001b[39m\u001b[38;5;241m.\u001b[39mpadding_mode \u001b[38;5;241m!=\u001b[39m \u001b[38;5;124m'\u001b[39m\u001b[38;5;124mzeros\u001b[39m\u001b[38;5;124m'\u001b[39m:\n\u001b[1;32m    416\u001b[0m     \u001b[38;5;28;01mreturn\u001b[39;00m F\u001b[38;5;241m.\u001b[39mconv2d(F\u001b[38;5;241m.\u001b[39mpad(\u001b[38;5;28minput\u001b[39m, \u001b[38;5;28mself\u001b[39m\u001b[38;5;241m.\u001b[39m_reversed_padding_repeated_twice, mode\u001b[38;5;241m=\u001b[39m\u001b[38;5;28mself\u001b[39m\u001b[38;5;241m.\u001b[39mpadding_mode),\n\u001b[1;32m    417\u001b[0m                     weight, \u001b[38;5;28mself\u001b[39m\u001b[38;5;241m.\u001b[39mbias, \u001b[38;5;28mself\u001b[39m\u001b[38;5;241m.\u001b[39mstride,\n\u001b[1;32m    418\u001b[0m                     _pair(\u001b[38;5;241m0\u001b[39m), \u001b[38;5;28mself\u001b[39m\u001b[38;5;241m.\u001b[39mdilation, \u001b[38;5;28mself\u001b[39m\u001b[38;5;241m.\u001b[39mgroups)\n\u001b[0;32m--> 419\u001b[0m \u001b[38;5;28;01mreturn\u001b[39;00m \u001b[43mF\u001b[49m\u001b[38;5;241;43m.\u001b[39;49m\u001b[43mconv2d\u001b[49m\u001b[43m(\u001b[49m\u001b[38;5;28;43minput\u001b[39;49m\u001b[43m,\u001b[49m\u001b[43m \u001b[49m\u001b[43mweight\u001b[49m\u001b[43m,\u001b[49m\u001b[43m \u001b[49m\u001b[38;5;28;43mself\u001b[39;49m\u001b[38;5;241;43m.\u001b[39;49m\u001b[43mbias\u001b[49m\u001b[43m,\u001b[49m\u001b[43m \u001b[49m\u001b[38;5;28;43mself\u001b[39;49m\u001b[38;5;241;43m.\u001b[39;49m\u001b[43mstride\u001b[49m\u001b[43m,\u001b[49m\n\u001b[1;32m    420\u001b[0m \u001b[43m                \u001b[49m\u001b[38;5;28;43mself\u001b[39;49m\u001b[38;5;241;43m.\u001b[39;49m\u001b[43mpadding\u001b[49m\u001b[43m,\u001b[49m\u001b[43m \u001b[49m\u001b[38;5;28;43mself\u001b[39;49m\u001b[38;5;241;43m.\u001b[39;49m\u001b[43mdilation\u001b[49m\u001b[43m,\u001b[49m\u001b[43m \u001b[49m\u001b[38;5;28;43mself\u001b[39;49m\u001b[38;5;241;43m.\u001b[39;49m\u001b[43mgroups\u001b[49m\u001b[43m)\u001b[49m\n",
      "\u001b[0;31mKeyboardInterrupt\u001b[0m: "
     ]
    }
   ],
   "source": [
    "train_epoch(\n",
    "            loss_fn=loss_fn, \n",
    "            optimizer=optim)"
   ]
  },
  {
   "cell_type": "code",
   "execution_count": null,
   "id": "6cae4fbb-74b6-48a0-aaff-39a2ccbf9cbd",
   "metadata": {},
   "outputs": [],
   "source": []
  },
  {
   "cell_type": "code",
   "execution_count": null,
   "id": "f4b50fc1-19e0-4294-8320-dabf526f8be5",
   "metadata": {},
   "outputs": [],
   "source": [
    "sample = net(img_torch[0].reshape(1,3, 720, 1280), \n",
    "                        img_torch[2].reshape(1,3, 720, 1280)\n",
    "                       ).reshape(720, 1280)"
   ]
  },
  {
   "cell_type": "code",
   "execution_count": null,
   "id": "618402e6-60bc-4e6a-afac-61cd4a7437b0",
   "metadata": {},
   "outputs": [],
   "source": [
    "plt.imshow(sample\n",
    "           .detach().numpy())"
   ]
  },
  {
   "cell_type": "code",
   "execution_count": null,
   "id": "42efd189-3785-47e6-a3fd-0f439cdec32a",
   "metadata": {},
   "outputs": [],
   "source": []
  },
  {
   "cell_type": "code",
   "execution_count": null,
   "id": "2a42901b-19b1-43fa-8aaf-db3bfcdbead4",
   "metadata": {},
   "outputs": [],
   "source": []
  }
 ],
 "metadata": {
  "kernelspec": {
   "display_name": "Python 3",
   "language": "python",
   "name": "python3"
  },
  "language_info": {
   "codemirror_mode": {
    "name": "ipython",
    "version": 3
   },
   "file_extension": ".py",
   "mimetype": "text/x-python",
   "name": "python",
   "nbconvert_exporter": "python",
   "pygments_lexer": "ipython3",
   "version": "3.9.12"
  }
 },
 "nbformat": 4,
 "nbformat_minor": 5
}
