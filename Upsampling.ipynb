{
 "cells": [
  {
   "cell_type": "code",
   "execution_count": 30,
   "id": "17289489",
   "metadata": {},
   "outputs": [],
   "source": [
    "# April 2023\n",
    "# Upsamling is explained here."
   ]
  },
  {
   "cell_type": "code",
   "execution_count": null,
   "id": "deb4190f",
   "metadata": {},
   "outputs": [],
   "source": []
  },
  {
   "cell_type": "code",
   "execution_count": 32,
   "id": "b497075b",
   "metadata": {},
   "outputs": [],
   "source": [
    "import torch\n",
    "from torch import nn"
   ]
  },
  {
   "cell_type": "code",
   "execution_count": 37,
   "id": "c2422f27",
   "metadata": {},
   "outputs": [
    {
     "data": {
      "text/plain": [
       "Upsample(scale_factor=1.0, mode=nearest)"
      ]
     },
     "execution_count": 37,
     "metadata": {},
     "output_type": "execute_result"
    }
   ],
   "source": [
    "upsample_layer = torch.nn.Upsample(scale_factor=1, mode='nearest')\n",
    "upsample_layer"
   ]
  },
  {
   "cell_type": "code",
   "execution_count": 38,
   "id": "8df88261",
   "metadata": {},
   "outputs": [],
   "source": [
    "# One can either give a scale_factor or the target output size to calculate \n",
    "# the output size. (You cannot give both, as it is ambiguous)"
   ]
  },
  {
   "cell_type": "code",
   "execution_count": 42,
   "id": "11c789f1",
   "metadata": {},
   "outputs": [
    {
     "data": {
      "text/plain": [
       "Upsample(size=(10, 10), mode=nearest)"
      ]
     },
     "execution_count": 42,
     "metadata": {},
     "output_type": "execute_result"
    }
   ],
   "source": [
    "upsample_layer = torch.nn.Upsample(size=(10,10), mode='nearest')\n",
    "upsample_layer"
   ]
  },
  {
   "cell_type": "code",
   "execution_count": null,
   "id": "20e89ad1",
   "metadata": {},
   "outputs": [],
   "source": []
  },
  {
   "cell_type": "code",
   "execution_count": 45,
   "id": "97f45414",
   "metadata": {},
   "outputs": [],
   "source": [
    "img = torch.rand((1, 1, 10,10))"
   ]
  },
  {
   "cell_type": "code",
   "execution_count": null,
   "id": "461e5888",
   "metadata": {},
   "outputs": [],
   "source": []
  },
  {
   "cell_type": "code",
   "execution_count": null,
   "id": "6b9e278a",
   "metadata": {},
   "outputs": [],
   "source": []
  },
  {
   "cell_type": "code",
   "execution_count": 46,
   "id": "3f3974d8",
   "metadata": {},
   "outputs": [],
   "source": [
    "convlayer = nn.Sequential(\n",
    "torch.nn.Conv2d(1, 64, \n",
    "                            kernel_size=(3,3), \n",
    "                            stride=1, padding=1),  # \n",
    "            torch.nn.ReLU(True),\n",
    "            torch.nn.MaxPool2d(2, stride=1),\n",
    "            torch.nn.Conv2d(64, 16, kernel_size=(3,3), \n",
    "                            stride=1, padding=1),  # b, 8, 3, 3\n",
    "            torch.nn.ReLU(True),\n",
    "            torch.nn.MaxPool2d(2, stride=1)  # b, 8, 2, 2\n",
    "        )"
   ]
  },
  {
   "cell_type": "code",
   "execution_count": null,
   "id": "a4ae1f0f",
   "metadata": {},
   "outputs": [],
   "source": []
  },
  {
   "cell_type": "code",
   "execution_count": 47,
   "id": "1f36d40b",
   "metadata": {},
   "outputs": [
    {
     "data": {
      "text/plain": [
       "torch.Size([1, 16, 8, 8])"
      ]
     },
     "execution_count": 47,
     "metadata": {},
     "output_type": "execute_result"
    }
   ],
   "source": [
    "convlayer(img).shape"
   ]
  },
  {
   "cell_type": "code",
   "execution_count": 48,
   "id": "07f67706",
   "metadata": {},
   "outputs": [],
   "source": [
    "# what is the benefit of upsampling with scale_factor=1?"
   ]
  },
  {
   "cell_type": "code",
   "execution_count": 49,
   "id": "b0c6a3d5",
   "metadata": {},
   "outputs": [],
   "source": [
    "convlayer = torch.nn.Sequential(\n",
    "            torch.nn.Upsample(scale_factor=1, mode='nearest'),\n",
    ")"
   ]
  },
  {
   "cell_type": "code",
   "execution_count": 50,
   "id": "91540db3",
   "metadata": {},
   "outputs": [
    {
     "data": {
      "text/plain": [
       "torch.Size([1, 1, 10, 10])"
      ]
     },
     "execution_count": 50,
     "metadata": {},
     "output_type": "execute_result"
    }
   ],
   "source": [
    "convlayer(img).shape\n"
   ]
  },
  {
   "cell_type": "code",
   "execution_count": 51,
   "id": "c60f60b1",
   "metadata": {},
   "outputs": [
    {
     "data": {
      "text/plain": [
       "tensor([[[[0., 0., 0., 0., 0., 0., 0., 0., 0., 0.],\n",
       "          [0., 0., 0., 0., 0., 0., 0., 0., 0., 0.],\n",
       "          [0., 0., 0., 0., 0., 0., 0., 0., 0., 0.],\n",
       "          [0., 0., 0., 0., 0., 0., 0., 0., 0., 0.],\n",
       "          [0., 0., 0., 0., 0., 0., 0., 0., 0., 0.],\n",
       "          [0., 0., 0., 0., 0., 0., 0., 0., 0., 0.],\n",
       "          [0., 0., 0., 0., 0., 0., 0., 0., 0., 0.],\n",
       "          [0., 0., 0., 0., 0., 0., 0., 0., 0., 0.],\n",
       "          [0., 0., 0., 0., 0., 0., 0., 0., 0., 0.],\n",
       "          [0., 0., 0., 0., 0., 0., 0., 0., 0., 0.]]]])"
      ]
     },
     "execution_count": 51,
     "metadata": {},
     "output_type": "execute_result"
    }
   ],
   "source": [
    "img -convlayer(img)"
   ]
  },
  {
   "cell_type": "code",
   "execution_count": 52,
   "id": "0a2d6cd1",
   "metadata": {},
   "outputs": [],
   "source": [
    "convlayer = torch.nn.Sequential(\n",
    "            torch.nn.Upsample(size=(12,12), mode='nearest'),\n",
    ")"
   ]
  },
  {
   "cell_type": "code",
   "execution_count": 27,
   "id": "e6baa6e2",
   "metadata": {},
   "outputs": [
    {
     "data": {
      "text/plain": [
       "torch.Size([1, 1, 12, 12])"
      ]
     },
     "execution_count": 27,
     "metadata": {},
     "output_type": "execute_result"
    }
   ],
   "source": [
    "convlayer(img).shape"
   ]
  },
  {
   "cell_type": "code",
   "execution_count": 53,
   "id": "208b2fe1",
   "metadata": {},
   "outputs": [],
   "source": [
    "# Note:\n",
    "# One can either give a scale_factor or the target output size to calculate \n",
    "# the output size. (You cannot give both, as it is ambiguous)"
   ]
  },
  {
   "cell_type": "code",
   "execution_count": null,
   "id": "b05b9709",
   "metadata": {},
   "outputs": [],
   "source": []
  },
  {
   "cell_type": "code",
   "execution_count": 54,
   "id": "f36512e8",
   "metadata": {},
   "outputs": [],
   "source": [
    "# you must wonder why scale_factor can be chosen as any floating number!\n",
    "# So, in general you can see that the depth, width, and height are computed in this way:\n"
   ]
  },
  {
   "cell_type": "code",
   "execution_count": 70,
   "id": "8210f075",
   "metadata": {},
   "outputs": [],
   "source": [
    "# formula is:\n",
    "# D_out = floor(D_in*scale_factor)\n",
    "# W_out = floor(W_in*scale_factor)\n",
    "# H_out = floor(H_in*scale_factor)"
   ]
  },
  {
   "cell_type": "code",
   "execution_count": 71,
   "id": "c53b86e3",
   "metadata": {},
   "outputs": [
    {
     "data": {
      "text/plain": [
       "Upsample(scale_factor=1.0, mode=nearest)"
      ]
     },
     "execution_count": 71,
     "metadata": {},
     "output_type": "execute_result"
    }
   ],
   "source": [
    "\n",
    "nn.Upsample(scale_factor=1, mode='nearest')"
   ]
  },
  {
   "cell_type": "code",
   "execution_count": 72,
   "id": "04ca2280",
   "metadata": {},
   "outputs": [],
   "source": [
    "upsam_layer = nn.Upsample(scale_factor=1.725, mode='nearest')"
   ]
  },
  {
   "cell_type": "code",
   "execution_count": 73,
   "id": "3a8c0281",
   "metadata": {},
   "outputs": [
    {
     "data": {
      "text/plain": [
       "(torch.Size([1, 1, 10, 10]), torch.Size([1, 1, 17, 17]))"
      ]
     },
     "execution_count": 73,
     "metadata": {},
     "output_type": "execute_result"
    }
   ],
   "source": [
    "img.shape, upsam_layer(img).shape"
   ]
  },
  {
   "cell_type": "code",
   "execution_count": null,
   "id": "0f9017de",
   "metadata": {},
   "outputs": [],
   "source": []
  },
  {
   "cell_type": "code",
   "execution_count": null,
   "id": "f0b7ecf6",
   "metadata": {},
   "outputs": [],
   "source": []
  }
 ],
 "metadata": {
  "kernelspec": {
   "display_name": "Python 3 (ipykernel)",
   "language": "python",
   "name": "python3"
  },
  "language_info": {
   "codemirror_mode": {
    "name": "ipython",
    "version": 3
   },
   "file_extension": ".py",
   "mimetype": "text/x-python",
   "name": "python",
   "nbconvert_exporter": "python",
   "pygments_lexer": "ipython3",
   "version": "3.9.12"
  }
 },
 "nbformat": 4,
 "nbformat_minor": 5
}
